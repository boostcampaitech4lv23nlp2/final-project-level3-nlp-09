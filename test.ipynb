{
 "cells": [
  {
   "attachments": {},
   "cell_type": "markdown",
   "metadata": {},
   "source": [
    "# 샘플러 검증"
   ]
  },
  {
   "cell_type": "code",
   "execution_count": 19,
   "metadata": {},
   "outputs": [],
   "source": [
    "import json\n",
    "def get_dataset(self, labels_file_path, data_file_path):\n",
    "        with open(labels_file_path, \"r\") as file:\n",
    "            labels = json.load(file)\n",
    "            labels = labels[\"categories\"]\n",
    "\n",
    "        with open(data_file_path, \"r\") as file:\n",
    "            data = json.load(file)\n",
    "            data = data[\"images\"]\n",
    "\n",
    "        return labels, data"
   ]
  },
  {
   "cell_type": "code",
   "execution_count": 25,
   "metadata": {},
   "outputs": [],
   "source": [
    "train_file_name = \"../data/aihub_1.0_43_0.3_train_crop.json\"\n",
    "test_file_name = \"../data/aihub_1.0_43_0.3_test_crop.json\"\n",
    "\n",
    "with open(train_file_name, \"r\") as file:\n",
    "    data = json.load(file)\n",
    "    data = data[\"images\"]"
   ]
  },
  {
   "cell_type": "code",
   "execution_count": 29,
   "metadata": {},
   "outputs": [],
   "source": [
    "labels_file_path = \"../data/labels.json\"\n",
    "\n",
    "with open(labels_file_path, \"r\") as file:\n",
    "    labels = json.load(file)\n",
    "    labels = labels[\"categories\"]"
   ]
  },
  {
   "cell_type": "code",
   "execution_count": 36,
   "metadata": {},
   "outputs": [],
   "source": [
    "def get_id_to_text(label_data):\n",
    "        return {item[\"id\"]: item[\"label\"] for item in label_data}\n",
    "\n",
    "def get_text_to_id(label_data):\n",
    "    return {item[\"label\"]: item[\"id\"] for item in label_data}\n",
    "\n",
    "id_to_text_dict = get_id_to_text(labels)\n",
    "text_to_id_dict = get_text_to_id(labels)"
   ]
  },
  {
   "cell_type": "code",
   "execution_count": 38,
   "metadata": {},
   "outputs": [],
   "source": [
    "cls = {}\n",
    "for ind, d in enumerate(data):\n",
    "    label = d[\"category_id\"]\n",
    "    if label in cls:\n",
    "        cls[label].append(ind)\n",
    "    else:\n",
    "        cls[label] = [ind]\n",
    "\n",
    "cls_inds = [0 for _ in range(len(cls))]\n",
    "\n",
    "cls_indicies = list(cls.keys())\n",
    "cls_matcher = {idx: idx for idx in range(len(cls_inds))}\n",
    "\n",
    "indicies = []\n",
    "ind_step = cls_indicies[0]\n",
    "for _ in range(len(data)):\n",
    "    cls_ind = cls_indicies[ind_step % len(cls)]\n",
    "    cls_ind = cls_matcher[cls_ind]\n",
    "    smp_ind = cls_inds[cls_ind] % len(cls[cls_ind])\n",
    "    index = cls[cls_ind][smp_ind]\n",
    "\n",
    "    ind_step += 1\n",
    "    cls_inds[cls_ind] += 1\n",
    "    indicies.append((index,id_to_text_dict[cls_ind]))"
   ]
  },
  {
   "cell_type": "code",
   "execution_count": 2,
   "metadata": {},
   "outputs": [
    {
     "ename": "FileNotFoundError",
     "evalue": "[Errno 2] No such file or directory: 'data/labels.json'",
     "output_type": "error",
     "traceback": [
      "\u001b[0;31m---------------------------------------------------------------------------\u001b[0m",
      "\u001b[0;31mFileNotFoundError\u001b[0m                         Traceback (most recent call last)",
      "Cell \u001b[0;32mIn[2], line 16\u001b[0m\n\u001b[1;32m     13\u001b[0m vision_cfg \u001b[39m=\u001b[39m configs[\u001b[39m\"\u001b[39m\u001b[39mvision_cfg\u001b[39m\u001b[39m\"\u001b[39m]\n\u001b[1;32m     15\u001b[0m preprocess \u001b[39m=\u001b[39m image_transform(vision_cfg[\u001b[39m\"\u001b[39m\u001b[39mimage_size\u001b[39m\u001b[39m\"\u001b[39m], is_train\u001b[39m=\u001b[39m\u001b[39mTrue\u001b[39;00m)\n\u001b[0;32m---> 16\u001b[0m dataset \u001b[39m=\u001b[39m FoodImageDataset(preprocess, mode\u001b[39m=\u001b[39;49m\u001b[39m\"\u001b[39;49m\u001b[39mtrain\u001b[39;49m\u001b[39m\"\u001b[39;49m)\n",
      "File \u001b[0;32m~/final-project-level3-nlp-09/src/dataset.py:26\u001b[0m, in \u001b[0;36mFoodImageDataset.__init__\u001b[0;34m(self, transforms, mode)\u001b[0m\n\u001b[1;32m     23\u001b[0m \u001b[39mself\u001b[39m\u001b[39m.\u001b[39mtext_to_id_dict \u001b[39m=\u001b[39m \u001b[39mNone\u001b[39;00m\n\u001b[1;32m     25\u001b[0m \u001b[39mif\u001b[39;00m mode \u001b[39m==\u001b[39m \u001b[39m\"\u001b[39m\u001b[39mtrain\u001b[39m\u001b[39m\"\u001b[39m:\n\u001b[0;32m---> 26\u001b[0m     \u001b[39mself\u001b[39m\u001b[39m.\u001b[39mlabels, \u001b[39mself\u001b[39m\u001b[39m.\u001b[39mdata \u001b[39m=\u001b[39m \u001b[39mself\u001b[39;49m\u001b[39m.\u001b[39;49mget_dataset(\u001b[39mself\u001b[39;49m\u001b[39m.\u001b[39;49mlabels_file_path, \u001b[39mself\u001b[39;49m\u001b[39m.\u001b[39;49mtrain_file_path)\n\u001b[1;32m     27\u001b[0m \u001b[39melif\u001b[39;00m mode \u001b[39m==\u001b[39m \u001b[39m\"\u001b[39m\u001b[39mtest\u001b[39m\u001b[39m\"\u001b[39m:\n\u001b[1;32m     28\u001b[0m     \u001b[39mself\u001b[39m\u001b[39m.\u001b[39mlabels, \u001b[39mself\u001b[39m\u001b[39m.\u001b[39mdata \u001b[39m=\u001b[39m \u001b[39mself\u001b[39m\u001b[39m.\u001b[39mget_dataset(\u001b[39mself\u001b[39m\u001b[39m.\u001b[39mlabels_file_path, \u001b[39mself\u001b[39m\u001b[39m.\u001b[39mtest_file_path)\n",
      "File \u001b[0;32m~/final-project-level3-nlp-09/src/dataset.py:41\u001b[0m, in \u001b[0;36mFoodImageDataset.get_dataset\u001b[0;34m(self, labels_file_path, data_file_path)\u001b[0m\n\u001b[1;32m     40\u001b[0m \u001b[39mdef\u001b[39;00m \u001b[39mget_dataset\u001b[39m(\u001b[39mself\u001b[39m, labels_file_path, data_file_path):\n\u001b[0;32m---> 41\u001b[0m     \u001b[39mwith\u001b[39;00m \u001b[39mopen\u001b[39;49m(labels_file_path, \u001b[39m\"\u001b[39;49m\u001b[39mr\u001b[39;49m\u001b[39m\"\u001b[39;49m) \u001b[39mas\u001b[39;00m file:\n\u001b[1;32m     42\u001b[0m         labels \u001b[39m=\u001b[39m json\u001b[39m.\u001b[39mload(file)\n\u001b[1;32m     43\u001b[0m         labels \u001b[39m=\u001b[39m labels[\u001b[39m\"\u001b[39m\u001b[39mcategories\u001b[39m\u001b[39m\"\u001b[39m]\n",
      "\u001b[0;31mFileNotFoundError\u001b[0m: [Errno 2] No such file or directory: 'data/labels.json'"
     ]
    }
   ],
   "source": [
    "import argparse\n",
    "import json\n",
    "\n",
    "import torch\n",
    "\n",
    "from src.dataset import FoodImageDataset\n",
    "from src.model import build_model\n",
    "from src.preprocess import image_transform\n",
    "from src.tokenizer import get_tokenizer\n",
    "\n",
    "with open(\"src/model_configs/baseline.json\") as f:\n",
    "    configs = json.load(f)\n",
    "vision_cfg = configs[\"vision_cfg\"]\n",
    "\n",
    "preprocess = image_transform(vision_cfg[\"image_size\"], is_train=True)\n",
    "dataset = FoodImageDataset(preprocess, mode=\"train\")"
   ]
  },
  {
   "cell_type": "code",
   "execution_count": null,
   "metadata": {},
   "outputs": [],
   "source": []
  }
 ],
 "metadata": {
  "kernelspec": {
   "display_name": "base",
   "language": "python",
   "name": "python3"
  },
  "language_info": {
   "codemirror_mode": {
    "name": "ipython",
    "version": 3
   },
   "file_extension": ".py",
   "mimetype": "text/x-python",
   "name": "python",
   "nbconvert_exporter": "python",
   "pygments_lexer": "ipython3",
   "version": "3.8.5"
  },
  "orig_nbformat": 4,
  "vscode": {
   "interpreter": {
    "hash": "d4d1e4263499bec80672ea0156c357c1ee493ec2b1c70f0acce89fc37c4a6abe"
   }
  }
 },
 "nbformat": 4,
 "nbformat_minor": 2
}
